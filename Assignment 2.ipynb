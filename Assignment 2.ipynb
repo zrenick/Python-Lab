{
 "cells": [
  {
   "cell_type": "markdown",
   "id": "f84ac33c",
   "metadata": {},
   "source": [
    "Hey Anirban, congrats on your upcoming job and on graduating from UCSC. I've been quite busy since we came back from Ohio trying to catch up on everything post capstone exam and haven't had the time to work very diligently on this assignment. I haven't gotten anything to work yet. I'm focusing my efforts towards the final assignment and my other final exams. I'm sorry I missed the last class of the quarter, I was told we didn't have section, but I enjoyed learning about python from you and hope I can use some of this knowledge in the future. "
   ]
  },
  {
   "cell_type": "code",
   "execution_count": 1,
   "id": "9104b881",
   "metadata": {},
   "outputs": [
    {
     "ename": "SyntaxError",
     "evalue": "EOL while scanning string literal (2557300512.py, line 6)",
     "output_type": "error",
     "traceback": [
      "\u001b[1;36m  File \u001b[1;32m\"C:\\Users\\econgrad\\AppData\\Local\\Temp\\ipykernel_8820\\2557300512.py\"\u001b[1;36m, line \u001b[1;32m6\u001b[0m\n\u001b[1;33m    url = \"https://www.glassdoor.com/Job/san-francisco-ca-us-data-analyst-jobs-SRCH_IL.0,19_IC1147401_KO20,32.htm?suggestCount=0&suggestChosen=false&clickSource=searchBtn&typedKeyword=Data&typedLocation=San%2520Francisco%252C%2520CA%2520(US)&context=Jobs&dropdown=0'\u001b[0m\n\u001b[1;37m                                                                                                                                                                                                                                                                          ^\u001b[0m\n\u001b[1;31mSyntaxError\u001b[0m\u001b[1;31m:\u001b[0m EOL while scanning string literal\n"
     ]
    }
   ],
   "source": [
    "import requests\n",
    "from bs4 import BeautifulSoup\n",
    "import pandas as pd\n",
    "\n",
    "# Define the URL to scrape\n",
    "url = \"https://www.glassdoor.com/Job/san-francisco-ca-us-data-analyst-jobs-SRCH_IL.0,19_IC1147401_KO20,32.htm?suggestCount=0&suggestChosen=false&clickSource=searchBtn&typedKeyword=Data&typedLocation=San%2520Francisco%252C%2520CA%2520(US)&context=Jobs&dropdown=0'\n",
    "\n",
    "# Send a GET request to the URL\n",
    "response = requests.get(url)\n",
    "\n",
    "# Create a BeautifulSoup object to parse the HTML content\n",
    "soup = BeautifulSoup(response.content, \"html.parser\")\n",
    "\n",
    "# Find all job listings on the page\n",
    "job_listings = soup.find_all('div', class_='job-title mt-xsm')\n",
    "\n",
    "# Create empty lists to store the data\n",
    "company_names = []\n",
    "job_titles = []\n",
    "job_descriptions = []\n",
    "average_salaries = []\n",
    "\n",
    "# Iterate over each job listing and extract the desired information\n",
    "for job in job_listings:\n",
    "    company_name = job.find(\"div\", class_=\"d-flex justify-content-between align-items-start\").text.strip()\n",
    "    job_title = job.find(\"a\", class_=\"jobLink\").text.strip()\n",
    "    job_description = job.find(\"div\", class_=\"jobDescriptionContent\").text.strip()\n",
    "    average_salary = job.find(\"span\", class_=\"css-1imh2hq\").text.strip()\n",
    "    \n",
    "    company_names.append(company_name)\n",
    "    job_titles.append(job_title)\n",
    "    job_descriptions.append(job_description)\n",
    "    average_salaries.append(average_salary)\n",
    "\n",
    "# Create a Pandas DataFrame with the scraped data\n",
    "data = {\n",
    "    \"Company Name\": company_names,\n",
    "    \"Job Title\": job_titles,\n",
    "    \"Job Description\": job_descriptions,\n",
    "    \"Average Salary Estimate\": average_salaries\n",
    "}\n",
    "\n",
    "df = pd.DataFrame(data)\n",
    "\n",
    "# Print the DataFrame\n",
    "print(df)"
   ]
  }
 ],
 "metadata": {
  "kernelspec": {
   "display_name": "Python 3 (ipykernel)",
   "language": "python",
   "name": "python3"
  },
  "language_info": {
   "codemirror_mode": {
    "name": "ipython",
    "version": 3
   },
   "file_extension": ".py",
   "mimetype": "text/x-python",
   "name": "python",
   "nbconvert_exporter": "python",
   "pygments_lexer": "ipython3",
   "version": "3.9.13"
  }
 },
 "nbformat": 4,
 "nbformat_minor": 5
}
